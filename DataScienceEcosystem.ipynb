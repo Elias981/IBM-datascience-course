{
 "cells": [
  {
   "cell_type": "markdown",
   "id": "75652925",
   "metadata": {},
   "source": [
    "# Data Science Tools and Ecosystem"
   ]
  },
  {
   "cell_type": "markdown",
   "id": "5bccd4c0",
   "metadata": {},
   "source": [
    "## Introduction\n",
    "In this notebook, Data Science Tools and Ecosystem are summarized."
   ]
  },
  {
   "cell_type": "markdown",
   "id": "9e54df0b",
   "metadata": {},
   "source": [
    "__Objectives:__\n",
    "- list popular lenguages of data science\n",
    "- list common libraries used in data science\n",
    "- list famous Integrated Development Environment (IDE)\n",
    "- make arithmetic expressions\n",
    "- transform 200 min to hours "
   ]
  },
  {
   "cell_type": "markdown",
   "id": "c9107e3a",
   "metadata": {},
   "source": [
    "Some of the popular languages that Data Scientists use are:\n",
    "1. python\n",
    "2. R\n",
    "3. SQL\n",
    "4. Javascript\n",
    "\n"
   ]
  },
  {
   "cell_type": "markdown",
   "id": "3e6b6fc8",
   "metadata": {},
   "source": [
    "Some of the commonly used libraries used by Data Scientists include:\n",
    "1. pandas\n",
    "2. scipy\n",
    "3. mathplotlib\n",
    "4. ggplot2\n",
    "5. pytorch\n",
    "6. tensorflow"
   ]
  },
  {
   "cell_type": "markdown",
   "id": "b6cd5696",
   "metadata": {},
   "source": [
    "|Data Science Tools|\n",
    ":---:\n",
    "|Visual studio code|\n",
    "|Jupyter lab|\n",
    "|R studio|"
   ]
  },
  {
   "cell_type": "markdown",
   "id": "5b81043f",
   "metadata": {},
   "source": [
    "### Below are a few examples of evaluating arithmetic expressions in Python"
   ]
  },
  {
   "cell_type": "code",
   "execution_count": 2,
   "id": "eab4011e",
   "metadata": {},
   "outputs": [
    {
     "data": {
      "text/plain": [
       "17"
      ]
     },
     "execution_count": 2,
     "metadata": {},
     "output_type": "execute_result"
    }
   ],
   "source": [
    "# his a simple arithmetic expression to mutiply then add integers\n",
    "(3*4)+5"
   ]
  },
  {
   "cell_type": "code",
   "execution_count": 3,
   "id": "254cbbb5",
   "metadata": {},
   "outputs": [
    {
     "data": {
      "text/plain": [
       "3.3333333333333335"
      ]
     },
     "execution_count": 3,
     "metadata": {},
     "output_type": "execute_result"
    }
   ],
   "source": [
    "# This will convert 200 minutes to hours by diving by 60\n",
    "200 / 60 \n"
   ]
  },
  {
   "cell_type": "markdown",
   "id": "9c57ac41",
   "metadata": {},
   "source": [
    "## Author \n",
    "Elias Enrique Rivas Ordaz"
   ]
  },
  {
   "cell_type": "code",
   "execution_count": null,
   "id": "28a9dc16",
   "metadata": {},
   "outputs": [],
   "source": []
  }
 ],
 "metadata": {
  "kernelspec": {
   "display_name": "Python 3 (ipykernel)",
   "language": "python",
   "name": "python3"
  },
  "language_info": {
   "codemirror_mode": {
    "name": "ipython",
    "version": 3
   },
   "file_extension": ".py",
   "mimetype": "text/x-python",
   "name": "python",
   "nbconvert_exporter": "python",
   "pygments_lexer": "ipython3",
   "version": "3.11.1"
  }
 },
 "nbformat": 4,
 "nbformat_minor": 5
}
